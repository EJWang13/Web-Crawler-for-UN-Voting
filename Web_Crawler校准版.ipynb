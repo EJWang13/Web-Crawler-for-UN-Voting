{
 "cells": [
  {
   "cell_type": "code",
   "execution_count": 1,
   "metadata": {},
   "outputs": [],
   "source": [
    "#先看当年数据总数，再输入page_number:1, 51, 101, 151...\n"
   ]
  },
  {
   "cell_type": "code",
   "execution_count": 2,
   "metadata": {},
   "outputs": [],
   "source": [
    "from urllib.request import urlopen\n",
    "from bs4 import BeautifulSoup\n",
    "import re\n",
    "year='2009'\n",
    "pages = set()\n",
    "website=[]\n",
    "time=[]\n",
    "title=[]\n",
    "overview=[]\n",
    "result=[]\n",
    "def getLinks(pageUrl,page_number):\n",
    "    global pages\n",
    "    try:\n",
    "        address='https://digitallibrary.un.org/search?ln=en&jrec={}&fct__3='.format(page_number)+year+'&fct__2=General+Assembly&fct__2=General+Assembly&cc=Voting+Data&fct__9=Vote&fct__9=Vote'\n",
    "        html = urlopen(address+pageUrl)\n",
    "        bs = BeautifulSoup(html, 'html.parser')\n",
    "        for link in bs.find_all('a', href=re.compile('^(/record/)')):\n",
    "            if 'href' in link.attrs:\n",
    "                if link.attrs['href'] not in pages:\n",
    "                    #We have encountered a new page\n",
    "                    newPage = link.attrs['href']\n",
    "                    #print(newPage)\n",
    "                    html_1=urlopen('https://digitallibrary.un.org'+newPage)\n",
    "                    bs_1=BeautifulSoup(html_1, 'html.parser')\n",
    "                    mylist=bs_1.find_all('span',{'class': 'value col-xs-12 col-sm-9 col-md-10'})\n",
    "                \n",
    "                    #修改start here\n",
    "                    website.append('https://digitallibrary.un.org'+newPage)\n",
    "                    for i in mylist:\n",
    "                        data=i.get_text()\n",
    "                        para=data.split('\\n')\n",
    "                        for element in para:\n",
    "                            if year in element[0:5]:\n",
    "                                #print(element)\n",
    "                                time.append(element)\n",
    "                            elif 'adopted' in element:\n",
    "                                print(element)\n",
    "                                title.append(element)\n",
    "                            elif'Voting Summary' in element:\n",
    "                                #print(element)\n",
    "                                overview.append(element)\n",
    "                            elif 'CHINA'in element:\n",
    "                                #print(element)\n",
    "                                result.append(element)\n",
    "                   \n",
    "                    pages.add(newPage)\n",
    "                    getLinks(newPage,page_number)\n",
    "    except:\n",
    "        pass\n",
    "        \n",
    "    "
   ]
  },
  {
   "cell_type": "code",
   "execution_count": 3,
   "metadata": {},
   "outputs": [
    {
     "name": "stdout",
     "output_type": "stream",
     "text": [
      "General Assembly resolution supporting the immediate ceasefire according to Security Council resolution 1860 (2009) : resolution / adopted by the General Assembly\n",
      "Situation of human rights in Myanmar : resolution / adopted by the General Assembly\n",
      "Towards a new international economic order : resolution / adopted by the General Assembly\n",
      "Agricultural technology for development : resolution / adopted by the General Assembly\n",
      "Oil slick on Lebanese shores : resolution / adopted by the General Assembly\n",
      "Unilateral economic measures as a means of political and economic coercion against developing countries : resolution / adopted by the General Assembly\n",
      "International trade and development : resolution / adopted by the General Assembly\n",
      "Permanent sovereignty of the Palestinian people in the Occupied Palestinian Territory, including East Jerusalem, and of the Arab population in the occupied Syrian Golan over their natural resources : resolution / adopted by the General Assembly\n",
      "Situation of human rights in the Islamic Republic of Iran : resolution / adopted by the General Assembly\n",
      "Situation of human rights in the Democratic People's Republic of Korea : resolution / adopted by the General Assembly\n",
      "Human rights and cultural diversity : resolution / adopted by the General Assembly\n",
      "Promotion of equitable geographical distribution in the membership of the human rights treaty bodies : resolution / adopted by the General Assembly\n",
      "The right to development : resolution / adopted by the General Assembly\n",
      "Human rights and unilateral coercive measures : resolution / adopted by the General Assembly\n",
      "Globalization and its impact on the full enjoyment of all human rights : resolution / adopted by the General Assembly\n",
      "Promotion of a democratic and equitable international order : resolution / adopted by the General Assembly\n",
      "Combating defamation of religions : resolution / adopted by the General Assembly\n",
      "International Covenants on Human Rights : resolution / adopted by the General Assembly\n",
      "Use of mercenaries as a means of violating human rights and impeding the exercise of the right of peoples to self-determination : resolution / adopted by the General Assembly\n",
      "The right of the Palestinian people to self-determination : resolution / adopted by the General Assembly\n",
      "Global efforts for the total elimination of racism, racial discrimination, xenophobia and related intolerance and the comprehensive implementation of and follow-up to the Durban Declaration and Programme of Action : resolution / adopted by the General Assembly\n",
      "Inadmissibility of certain practices that contribute to fuelling contemporary forms of racism, racial discrimination, xenophobia and related intolerance : resolution / adopted by the General Assembly\n",
      "Implementation of the Declaration on the Granting of Independence to Colonial Countries and Peoples : resolution / adopted by the General Assembly\n",
      "Dissemination of information on decolonization : resolution / adopted by the General Assembly\n",
      "Implementation of the Declaration on the Granting of Independence to Colonial Countries and Peoples by the specialized agencies and the international institutions associated with the United Nations : resolution / adopted by the General Assembly\n",
      "Economic and other activities which affect the interests of the peoples of the Non-Self-Governing Territories : resolution / adopted by the General Assembly\n",
      "Information from Non-Self-Governing Territories transmitted under Article 73e of the Charter of the United Nations : resolution / adopted by the General Assembly\n",
      "The occupied Syrian Golan : resolution / adopted by the General Assembly\n",
      "Israeli practices affecting the human rights of the Palestinian people in the Occupied Palestinian Territory, including East Jerusalem : resolution / adopted by the General Assembly\n",
      "Israeli settlements in the Occupied Palestinian Territory, including East Jerusalem, and the occupied Syrian Golan : resolution / adopted by the General Assembly\n",
      "Applicability of the Geneva Convention relative to the Protection of Civilian Persons in Time of War, of 12 August 1949, to the Occupied Palestinian Territory, including East Jerusalem, and the other occupied Arab territories : resolution / adopted by the General Assembly\n",
      "Work of the Special Committee to Investigate Israel Practices Affecting the Human Rights of the Palestinian People and Other Arabs of the Occupied Territories : resolution / adopted by the General Assembly\n",
      "Palestine refugees' properties and their revenues : resolution / adopted by the General Assembly\n",
      "Operations of the United Nations Relief and Works Agency for Palestine Refugees in the Near East : resolution / adopted by the General Assembly\n",
      "Persons displaced as a result of the June 1967 and subsequent hostilities : resolution / adopted by the General Assembly\n",
      "Assistance to Palestine refugees : resolution / adopted by the General Assembly\n",
      "Oceans and the law of the sea : resolution / adopted by the General Assembly\n",
      "Comprehensive Nuclear-Test-Ban Treaty : resolution / adopted by the General Assembly\n",
      "The risk of nuclear proliferation in the Middle East : resolution / adopted by the General Assembly\n",
      "Convention on the Prohibition of the Use of Nuclear Weapons : resolution / adopted by the General Assembly\n",
      "Towards a nuclear-weapon-free world : accelerating the implementation of nuclear disarmament commitments : resolution / adopted by the General Assembly\n",
      "Implementation of the Convention on the Prohibition of the Use, Stockpiling, Production and Transfer of Anti-Personnel Mines and on Their Destruction : resolution / adopted by the General Assembly\n",
      "Follow-up to the advisory opinion of the International Court of Justice on the Legality of the Threat or Use of Nuclear Weapons : resolution / adopted by the General Assembly\n",
      "Transparency in armaments : resolution / adopted by the General Assembly\n",
      "Nuclear disarmament : resolution / adopted by the General Assembly\n",
      "Second Conference of States Parties and Signatories to Treaties that Establish Nuclear-Weapon-Free Zones and Mongolia : resolution / adopted by the General Assembly\n",
      "The illicit trade in small arms and light weapons in all its aspects : resolution / adopted by the General Assembly\n",
      "The Arms Trade Treaty : resolution / adopted by the General Assembly\n",
      "Renewed determination towards the total elimination of nuclear weapons : resolution / adopted by the General Assembly\n",
      "Nuclear-weapon-free southern hemisphere and adjacent areas : resolution / adopted by the General Assembly\n"
     ]
    }
   ],
   "source": [
    "getLinks('', page_number=1)\n"
   ]
  },
  {
   "cell_type": "code",
   "execution_count": 4,
   "metadata": {},
   "outputs": [
    {
     "name": "stdout",
     "output_type": "stream",
     "text": [
      "Conventional arms control at the regional and subregional levels : resolution / adopted by the General Assembly\n",
      "Treaty on the South-East Asia Nuclear-Weapon-Free Zone (Bangkok Treaty) : resolution / adopted by the General Assembly\n",
      "Reducing nuclear danger : resolution / adopted by the General Assembly\n",
      "Promotion of multilateralism in the area of disarmament and non-proliferation : resolution / adopted by the General Assembly\n",
      "Follow-up to nuclear disarmament obligations agreed to at the 1995 and 2000 Review Conferences of the Parties to the Treaty on the Non-Proliferation of Nuclear Weapons : resolution / adopted by the General Assembly\n",
      "Prevention of an arms race in outer space : resolution / adopted by the General Assembly\n",
      "Conclusion of effective international arrangements to assure non-nuclear-weapon States against the use or threat of use of nuclear weapons : resolution / adopted by the General Assembly\n",
      "Implementation of the Declaration of the Indian Ocean as a Zone of Peace : resolution / adopted by the General Assembly\n",
      "The Syrian Golan : resolution / adopted by the General Assembly\n",
      "Jerusalem : resolution / adopted by the General Assembly\n",
      "Peaceful settlement of the question of Palestine : resolution / adopted by the General Assembly\n",
      "Special information programme on the question of Palestine of the Department of Public Information of the Secretariat : resolution / adopted by the General Assembly\n",
      "Division for Palestinian Rights of the Secretariat : resolution / adopted by the General Assembly\n",
      "Committee on the Exercise of the Inalienable Rights of the Palestinian People : resolution / adopted by the General Assembly\n",
      "Follow-up to the report of the United Nations Fact-Finding Mission on the Gaza Conflict  : resolution / adopted by the General Assembly\n",
      "Financing of the United Nations Interim Force in Lebanon : resolution / adopted by the General Assembly\n",
      "Necessity of ending the economic, commercial and financial embargo imposed by the United States of America against Cuba : resolution / adopted by the General Assembly\n",
      "Status of internally displaced persons and refugees from Abkhazia, Georgia and the Tskhinvali region/South Ossetia, Georgia : resolution / adopted by the General Assembly\n"
     ]
    }
   ],
   "source": [
    "getLinks('', page_number=51)"
   ]
  },
  {
   "cell_type": "code",
   "execution_count": 5,
   "metadata": {},
   "outputs": [],
   "source": [
    "import pandas as pd\n",
    "\n",
    "df = pd.DataFrame(columns=['website','time','title','overview','result'])\n",
    "df['website']=website\n",
    "df['time']=time\n",
    "df['title']=title\n",
    "df['overview']=overview\n",
    "df['result']=result\n",
    "\n"
   ]
  },
  {
   "cell_type": "code",
   "execution_count": 6,
   "metadata": {},
   "outputs": [],
   "source": [
    "df.to_excel(r'UN_{}.xlsx'.format(year))"
   ]
  },
  {
   "cell_type": "code",
   "execution_count": null,
   "metadata": {},
   "outputs": [],
   "source": []
  }
 ],
 "metadata": {
  "kernelspec": {
   "display_name": "Python 3",
   "language": "python",
   "name": "python3"
  },
  "language_info": {
   "codemirror_mode": {
    "name": "ipython",
    "version": 3
   },
   "file_extension": ".py",
   "mimetype": "text/x-python",
   "name": "python",
   "nbconvert_exporter": "python",
   "pygments_lexer": "ipython3",
   "version": "3.7.3"
  }
 },
 "nbformat": 4,
 "nbformat_minor": 2
}
